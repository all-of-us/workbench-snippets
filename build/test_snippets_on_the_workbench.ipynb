{
 "cells": [
  {
   "cell_type": "markdown",
   "metadata": {},
   "source": [
    "# Workbench snippets testing helper notebook\n",
    "\n",
    "This notebook is useful for testing of existing snippets in situ on the workbench (e.g., in preprod or prod). It is also useful for testing and development of **new snippets**.\n",
    "\n",
    "Use this notebook to:\n",
    "* set up snippets using the latest code from GitHub\n",
    "* manually test snippets via the Jupyter extension 'Snippets Menu'\n",
    "* run all the smoke tests"
   ]
  },
  {
   "cell_type": "markdown",
   "metadata": {},
   "source": [
    "# Setup"
   ]
  },
  {
   "cell_type": "markdown",
   "metadata": {},
   "source": [
    "## Obtain the current snippets\n",
    "\n",
    "Retrieve the code from https://github.com/all-of-us/workbench-snippets or a fork of this repository.\n",
    "\n",
    "<div class=\"alert alert-block alert-warning\">\n",
    "<b>Note:</b> Edit the cell below if you would like to test code from a different branch or fork of the GitHub repository.\n",
    "</div>"
   ]
  },
  {
   "cell_type": "code",
   "execution_count": null,
   "metadata": {},
   "outputs": [],
   "source": [
    "%%bash\n",
    "\n",
    "# Change these if you wish to use code from a different branch or fork.\n",
    "FORK='all-of-us'\n",
    "BRANCH='master'\n",
    "\n",
    "if [ -d './workbench-snippets' ] ; then\n",
    "    cd ./workbench-snippets\n",
    "    git pull\n",
    "    git checkout ${BRANCH}\n",
    "    git status\n",
    "    git log\n",
    "else\n",
    "    git clone https://github.com/${FORK}/workbench-snippets.git\n",
    "    cd ./workbench-snippets\n",
    "    git checkout ${BRANCH}\n",
    "    git log\n",
    "fi"
   ]
  },
  {
   "cell_type": "markdown",
   "metadata": {},
   "source": [
    "## Install the associated Python package "
   ]
  },
  {
   "cell_type": "code",
   "execution_count": null,
   "metadata": {},
   "outputs": [],
   "source": [
    "%%bash\n",
    "\n",
    "cd workbench-snippets/py\n",
    "pip3 install --upgrade --no-deps ."
   ]
  },
  {
   "cell_type": "markdown",
   "metadata": {},
   "source": [
    "## Create our configuration for the snippets extension"
   ]
  },
  {
   "cell_type": "code",
   "execution_count": null,
   "metadata": {},
   "outputs": [],
   "source": [
    "%%bash\n",
    "cd workbench-snippets/build/\n",
    "python3 generate_jupyter_snippets_menu_extension_config.py"
   ]
  },
  {
   "cell_type": "code",
   "execution_count": null,
   "metadata": {},
   "outputs": [],
   "source": [
    "%%bash\n",
    "ls workbench-snippets/build/*json"
   ]
  },
  {
   "cell_type": "markdown",
   "metadata": {},
   "source": [
    "# Manually install and test the snippets"
   ]
  },
  {
   "cell_type": "markdown",
   "metadata": {},
   "source": [
    "See the screenshot below to help clarify these instructions.\n",
    "1. enable Jupyter extension 'Snippets menu'\n",
    "2. check the box next to *Insert snippets as new cells, rather than at cursor inside current cell*\n",
    "3. check the box next to *Include custom menu content parsed from JSON string below*\n",
    "4. copy and paste the generated block of json from this notebook into *JSON string parsed to define custom menus (only used if the option above is checked)*\n",
    "5. create a brand new Python or R notebook and then use the *Snippets* menu to add code. (Or reload an existing notebook.)"
   ]
  },
  {
   "cell_type": "code",
   "execution_count": null,
   "metadata": {},
   "outputs": [],
   "source": []
  },
  {
   "cell_type": "markdown",
   "metadata": {},
   "source": [
    "## Cloud Storage snippets"
   ]
  },
  {
   "cell_type": "markdown",
   "metadata": {},
   "source": [
    "### Install and test the R Cloud Storage snippets"
   ]
  },
  {
   "cell_type": "code",
   "execution_count": null,
   "metadata": {},
   "outputs": [],
   "source": [
    "%%bash\n",
    "cat workbench-snippets/build/r_gcs_snippets_menu_config.json"
   ]
  },
  {
   "cell_type": "markdown",
   "metadata": {},
   "source": [
    "### Install and test the Python Cloud Storage snippets\n"
   ]
  },
  {
   "cell_type": "code",
   "execution_count": null,
   "metadata": {},
   "outputs": [],
   "source": [
    "%%bash\n",
    "cat workbench-snippets/build/py_gcs_snippets_menu_config.json"
   ]
  },
  {
   "cell_type": "markdown",
   "metadata": {},
   "source": [
    "## Dataset Builder snippets"
   ]
  },
  {
   "cell_type": "markdown",
   "metadata": {},
   "source": [
    "### Install and test the R Dataset Builder snippets"
   ]
  },
  {
   "cell_type": "code",
   "execution_count": null,
   "metadata": {},
   "outputs": [],
   "source": [
    "%%bash\n",
    "cat workbench-snippets/build/r_dataset_snippets_menu_config.json"
   ]
  },
  {
   "cell_type": "markdown",
   "metadata": {},
   "source": [
    "### Install and test the Python dataset builder snippets"
   ]
  },
  {
   "cell_type": "code",
   "execution_count": null,
   "metadata": {},
   "outputs": [],
   "source": [
    "%%bash\n",
    "cat workbench-snippets/build/py_dataset_snippets_menu_config.json"
   ]
  },
  {
   "cell_type": "markdown",
   "metadata": {},
   "source": [
    "## SQL snippets "
   ]
  },
  {
   "cell_type": "markdown",
   "metadata": {},
   "source": [
    "### Install and test the R and SQL snippets"
   ]
  },
  {
   "cell_type": "code",
   "execution_count": null,
   "metadata": {},
   "outputs": [],
   "source": [
    "%%bash\n",
    "cat workbench-snippets/build/r_sql_snippets_menu_config.json"
   ]
  },
  {
   "cell_type": "markdown",
   "metadata": {},
   "source": [
    "### Install and test the Python and SQL snippets"
   ]
  },
  {
   "cell_type": "code",
   "execution_count": null,
   "metadata": {},
   "outputs": [],
   "source": [
    "%%bash\n",
    "cat workbench-snippets/build/py_sql_snippets_menu_config.json"
   ]
  },
  {
   "cell_type": "markdown",
   "metadata": {},
   "source": [
    "# Run the smoke tests\n",
    "\n",
    "The script to auto-generate the Jupyter Snippets Menu configuration also emits both `*smoke_test.R` and `*smoke_test.py`. Those scripts each include, respectively, all the R snippets and all the Python snippets. If those scripts are run from the workbench environment and there are no obvious bugs in the snippets, they will run start-to-finish without error. (It won't necessarily catch all bugs, but its a good start.)\n",
    "\n",
    "<div class=\"alert alert-block alert-warning\">\n",
    "<b>Note:</b> Be sure to check that the last line of output in all the cells below is <kbd>Smoke test complete!</kbd> to manually confirm that test did indeed succeed.\n",
    "</div>\n"
   ]
  },
  {
   "cell_type": "markdown",
   "metadata": {},
   "source": [
    "## Run GCS snippets smoke tests\n",
    "\n",
    "The smoke tests will emit _\"Smoke test complete!\"_ when they have completed successfully."
   ]
  },
  {
   "cell_type": "code",
   "execution_count": null,
   "metadata": {},
   "outputs": [],
   "source": [
    "%%bash\n",
    "cd ./workbench-snippets/build\n",
    "Rscript r_gcs_snippets_menu_config_smoke_test.R  # There will be output, but there should be no errors."
   ]
  },
  {
   "cell_type": "code",
   "execution_count": null,
   "metadata": {},
   "outputs": [],
   "source": [
    "%%bash\n",
    "cd ./workbench-snippets/build\n",
    "python3 py_gcs_snippets_menu_config_smoke_test.py  # There will be output, but there should be no errors."
   ]
  },
  {
   "cell_type": "markdown",
   "metadata": {},
   "source": [
    "## Run SQL snippets smoke tests\n",
    "\n",
    "The CDR that will be used is determined by the `WORKBENCH_CDR` environment variable. The example below shows how to override it, if desired.\n",
    "\n",
    "The smoke tests will emit _\"Smoke test complete!\"_ when they have completed successfully."
   ]
  },
  {
   "cell_type": "code",
   "execution_count": null,
   "metadata": {},
   "outputs": [],
   "source": [
    "%%bash\n",
    "cd ./workbench-snippets/build\n",
    "\n",
    "Rscript r_sql_snippets_menu_config_smoke_test.R  # There will be output, but there should be no errors."
   ]
  },
  {
   "cell_type": "code",
   "execution_count": null,
   "metadata": {},
   "outputs": [],
   "source": [
    "%%bash\n",
    "cd ./workbench-snippets/build\n",
    "\n",
    "# Uncomment the line below if you wish to use a different CDR than the one associated with this workspace.\n",
    "#export WORKSPACE_CDR='fc-aou-cdr-prod.<some other release>'\n",
    "\n",
    "python3 py_sql_snippets_menu_config_smoke_test.py  # There will be output, but there should be no errors."
   ]
  },
  {
   "cell_type": "markdown",
   "metadata": {},
   "source": [
    "## Run Dataset Builder snippets smoke tests"
   ]
  },
  {
   "cell_type": "code",
   "execution_count": null,
   "metadata": {},
   "outputs": [],
   "source": [
    "%%bash\n",
    "cd ./workbench-snippets/build\n",
    "\n",
    "Rscript r_dataset_snippets_menu_config_smoke_test.R  # There will be output, but there should be no errors."
   ]
  },
  {
   "cell_type": "code",
   "execution_count": null,
   "metadata": {},
   "outputs": [],
   "source": [
    "%%bash\n",
    "cd ./workbench-snippets/build\n",
    "\n",
    "python3 py_dataset_snippets_menu_config_smoke_test.py  # There will be output, but there should be no errors."
   ]
  },
  {
   "cell_type": "markdown",
   "metadata": {},
   "source": [
    "# Provenance"
   ]
  },
  {
   "cell_type": "code",
   "execution_count": null,
   "metadata": {},
   "outputs": [],
   "source": [
    "import datetime\n",
    "print(datetime.datetime.now())"
   ]
  },
  {
   "cell_type": "code",
   "execution_count": null,
   "metadata": {},
   "outputs": [],
   "source": [
    "!pip3 freeze"
   ]
  },
  {
   "cell_type": "markdown",
   "metadata": {},
   "source": [
    "Use of this source code is governed by a BSD-style license that can be found in the LICENSE file."
   ]
  }
 ],
 "metadata": {
  "kernelspec": {
   "display_name": "Python 3",
   "language": "python",
   "name": "python3"
  },
  "language_info": {
   "codemirror_mode": {
    "name": "ipython",
    "version": 3
   },
   "file_extension": ".py",
   "mimetype": "text/x-python",
   "name": "python",
   "nbconvert_exporter": "python",
   "pygments_lexer": "ipython3",
   "version": "3.7.10"
  },
  "toc": {
   "base_numbering": 1,
   "nav_menu": {},
   "number_sections": true,
   "sideBar": true,
   "skip_h1_title": false,
   "title_cell": "Table of Contents",
   "title_sidebar": "Contents",
   "toc_cell": false,
   "toc_position": {
    "height": "calc(100% - 180px)",
    "left": "10px",
    "top": "150px",
    "width": "275px"
   },
   "toc_section_display": true,
   "toc_window_display": true
  }
 },
 "nbformat": 4,
 "nbformat_minor": 2
}
